{
 "cells": [
  {
   "cell_type": "code",
   "execution_count": null,
   "metadata": {},
   "outputs": [
    {
     "ename": "AttributeError",
     "evalue": "'float' object has no attribute 'split'",
     "output_type": "error",
     "traceback": [
      "\u001b[1;31m---------------------------------------------------------------------------\u001b[0m",
      "\u001b[1;31mAttributeError\u001b[0m                            Traceback (most recent call last)",
      "Cell \u001b[1;32mIn[2], line 16\u001b[0m\n\u001b[0;32m     13\u001b[0m edge_count \u001b[38;5;241m=\u001b[39m \u001b[38;5;241m0\u001b[39m\n\u001b[0;32m     15\u001b[0m \u001b[38;5;66;03m# Create an edge list by comparing genre sets\u001b[39;00m\n\u001b[1;32m---> 16\u001b[0m genre_lists \u001b[38;5;241m=\u001b[39m [\u001b[38;5;28mset\u001b[39m(g\u001b[38;5;241m.\u001b[39msplit(\u001b[38;5;124m'\u001b[39m\u001b[38;5;124m;\u001b[39m\u001b[38;5;124m'\u001b[39m)) \u001b[38;5;28;01mfor\u001b[39;00m g \u001b[38;5;129;01min\u001b[39;00m genres]\n\u001b[0;32m     18\u001b[0m \u001b[38;5;66;03m# Use combinations to avoid redundant comparisons\u001b[39;00m\n\u001b[0;32m     19\u001b[0m \u001b[38;5;28;01mfor\u001b[39;00m book1, book2 \u001b[38;5;129;01min\u001b[39;00m combinations(\u001b[38;5;28mrange\u001b[39m(\u001b[38;5;28mlen\u001b[39m(genre_lists)), \u001b[38;5;241m2\u001b[39m):\n",
      "Cell \u001b[1;32mIn[2], line 16\u001b[0m, in \u001b[0;36m<listcomp>\u001b[1;34m(.0)\u001b[0m\n\u001b[0;32m     13\u001b[0m edge_count \u001b[38;5;241m=\u001b[39m \u001b[38;5;241m0\u001b[39m\n\u001b[0;32m     15\u001b[0m \u001b[38;5;66;03m# Create an edge list by comparing genre sets\u001b[39;00m\n\u001b[1;32m---> 16\u001b[0m genre_lists \u001b[38;5;241m=\u001b[39m [\u001b[38;5;28mset\u001b[39m(\u001b[43mg\u001b[49m\u001b[38;5;241;43m.\u001b[39;49m\u001b[43msplit\u001b[49m(\u001b[38;5;124m'\u001b[39m\u001b[38;5;124m;\u001b[39m\u001b[38;5;124m'\u001b[39m)) \u001b[38;5;28;01mfor\u001b[39;00m g \u001b[38;5;129;01min\u001b[39;00m genres]\n\u001b[0;32m     18\u001b[0m \u001b[38;5;66;03m# Use combinations to avoid redundant comparisons\u001b[39;00m\n\u001b[0;32m     19\u001b[0m \u001b[38;5;28;01mfor\u001b[39;00m book1, book2 \u001b[38;5;129;01min\u001b[39;00m combinations(\u001b[38;5;28mrange\u001b[39m(\u001b[38;5;28mlen\u001b[39m(genre_lists)), \u001b[38;5;241m2\u001b[39m):\n",
      "\u001b[1;31mAttributeError\u001b[0m: 'float' object has no attribute 'split'"
     ]
    }
   ],
   "source": [
    "import pandas as pd\n",
    "from itertools import combinations\n",
    "\n",
    "# Load the dataset\n",
    "file_path = \"Goodreads_books_with_genres.csv\"  # Replace with the actual file path\n",
    "data = pd.read_csv(file_path)  # Assuming the file is a CSV\n",
    "\n",
    "# Extract relevant columns\n",
    "titles = data['Title']\n",
    "genres = data['genres']\n",
    "\n",
    "# Initialize edge count\n",
    "edge_count = 0\n",
    "\n",
    "# Preprocess genres to handle empty and single-genre entries\n",
    "genre_lists = [set(str(g).split(';')) if isinstance(g, str) else set() for g in genres]\n",
    "\n",
    "# Use combinations to avoid redundant comparisons\n",
    "for book1, book2 in combinations(range(len(genre_lists)), 2):\n",
    "    shared_genres = genre_lists[book1].intersection(genre_lists[book2])\n",
    "    if shared_genres:\n",
    "        edge_count += 1\n",
    "\n",
    "print(f\"Total edges in the network: {edge_count}\")\n"
   ]
  }
 ],
 "metadata": {
  "kernelspec": {
   "display_name": "Python 3",
   "language": "python",
   "name": "python3"
  },
  "language_info": {
   "codemirror_mode": {
    "name": "ipython",
    "version": 3
   },
   "file_extension": ".py",
   "mimetype": "text/x-python",
   "name": "python",
   "nbconvert_exporter": "python",
   "pygments_lexer": "ipython3",
   "version": "3.10.8"
  }
 },
 "nbformat": 4,
 "nbformat_minor": 2
}
